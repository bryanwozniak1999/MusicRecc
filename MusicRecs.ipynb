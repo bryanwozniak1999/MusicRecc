{
 "cells": [
  {
   "cell_type": "code",
   "execution_count": null,
   "id": "6f552ded",
   "metadata": {
    "scrolled": true
   },
   "outputs": [],
   "source": [
    "import pandas as pd \n",
    "import numpy as np \n",
    "import plotly.express as px \n",
    "import matplotlib.pyplot as plt \n",
    "import seaborn as sns \n",
    "import matplotlib.patches as mpatches \n",
    "import plotly\n",
    "from scipy.spatial import distance\n",
    "import copy\n",
    "from scipy import spatial \n",
    "from matplotlib import transforms \n",
    "from sklearn.cluster import KMeans \n",
    "from sklearn.decomposition import PCA \n",
    "import warnings\n",
    "warnings.filterwarnings(\"ignore\") \n"
   ]
  },
  {
   "cell_type": "code",
   "execution_count": null,
   "id": "a7419cff",
   "metadata": {},
   "outputs": [],
   "source": [
    "#importing the data\n",
    "songData=pd.read_csv(\"C:\\\\Users\\\\Bryan\\\\Downloads\\\\SpotifyFeatures.csv\")"
   ]
  },
  {
   "cell_type": "code",
   "execution_count": null,
   "id": "9e1f296f",
   "metadata": {
    "scrolled": true
   },
   "outputs": [],
   "source": [
    "#looking at the data\n",
    "songData.head()\n",
    "#genres in the data set include trap, techno, techhouse, psytrance, darktrap, DnB, Hrdstyle, underground rap, Trap metal, emo,\n",
    "#rap. RnB, Pop, and HipHop"
   ]
  },
  {
   "cell_type": "code",
   "execution_count": null,
   "id": "9ceb2f43",
   "metadata": {},
   "outputs": [],
   "source": [
    "songData['genre'].unique()"
   ]
  },
  {
   "cell_type": "code",
   "execution_count": null,
   "id": "0fa17f57",
   "metadata": {},
   "outputs": [],
   "source": [
    "songData[\"genre\"].value_counts().sum()"
   ]
  },
  {
   "cell_type": "code",
   "execution_count": null,
   "id": "ff2b0be5",
   "metadata": {},
   "outputs": [],
   "source": [
    "songData.describe().T"
   ]
  },
  {
   "cell_type": "code",
   "execution_count": null,
   "id": "b0096e7c",
   "metadata": {
    "scrolled": true
   },
   "outputs": [],
   "source": [
    "genres =songData.groupby(\"genre\").mean()\n",
    "#It classified by genre variable \n",
    "print(genres)"
   ]
  },
  {
   "cell_type": "code",
   "execution_count": null,
   "id": "124bd03c",
   "metadata": {},
   "outputs": [],
   "source": [
    "#pairplot of pop\n",
    "songDataPop = songData[songData['genre'].str.contains('Pop')]\n",
    "df=copy.deepcopy(songDataPop)\n",
    "sns.set_style(\"darkgrid\")\n",
    "sns.pairplot(df,corner=True,hue=\"genre\")"
   ]
  },
  {
   "cell_type": "code",
   "execution_count": null,
   "id": "dd892f27",
   "metadata": {
    "scrolled": false
   },
   "outputs": [],
   "source": [
    "#pairplot of electronic music\n",
    "songDataElectronic = songData[songData['genre'].str.contains('Electronic')]\n",
    "df=copy.deepcopy(songDataElectronic)\n",
    "sns.set_style(\"darkgrid\")\n",
    "sns.pairplot(df,corner=True,hue=\"genre\")"
   ]
  },
  {
   "cell_type": "code",
   "execution_count": null,
   "id": "c7b4f355",
   "metadata": {},
   "outputs": [],
   "source": [
    "#pairplot of every genre that begins with r\n",
    "songDataR = songData[songData['genre'].str.contains('R')]\n",
    "df=copy.deepcopy(songDataR)\n",
    "sns.set_style(\"darkgrid\")\n",
    "sns.pairplot(df,corner=True,hue=\"genre\")"
   ]
  },
  {
   "cell_type": "code",
   "execution_count": null,
   "id": "25d0be45",
   "metadata": {},
   "outputs": [],
   "source": [
    "#pairplot of all song genres\n",
    "df=copy.deepcopy(songData)"
   ]
  },
  {
   "cell_type": "code",
   "execution_count": null,
   "id": "d0fb4116",
   "metadata": {},
   "outputs": [],
   "source": [
    "sns.pairplot(df,corner=True,hue=\"genre\")"
   ]
  },
  {
   "cell_type": "code",
   "execution_count": null,
   "id": "7a81767d",
   "metadata": {},
   "outputs": [],
   "source": [
    "#boxplot of genres and their attributes"
   ]
  },
  {
   "cell_type": "code",
   "execution_count": null,
   "id": "29239c60",
   "metadata": {},
   "outputs": [],
   "source": [
    "px.box(data_frame=songData,y=\"danceability\", color=\"genre\")"
   ]
  },
  {
   "cell_type": "code",
   "execution_count": null,
   "id": "97bed131",
   "metadata": {},
   "outputs": [],
   "source": [
    "px.box(data_frame=songData,y=\"energy\", color=\"genre\")"
   ]
  },
  {
   "cell_type": "code",
   "execution_count": null,
   "id": "86b6f8dc",
   "metadata": {},
   "outputs": [],
   "source": [
    "px.box(data_frame=songData,y=\"loudness\", color=\"genre\")"
   ]
  },
  {
   "cell_type": "code",
   "execution_count": null,
   "id": "4a6dcc61",
   "metadata": {},
   "outputs": [],
   "source": [
    "px.box(data_frame=songData,y=\"speechiness\", color=\"genre\")"
   ]
  },
  {
   "cell_type": "code",
   "execution_count": null,
   "id": "535fc665",
   "metadata": {},
   "outputs": [],
   "source": [
    "px.box(data_frame=songData,y=\"acousticness\", color=\"genre\")"
   ]
  },
  {
   "cell_type": "code",
   "execution_count": null,
   "id": "c979cff5",
   "metadata": {},
   "outputs": [],
   "source": [
    "px.box(data_frame=songData,y=\"instrumentalness\", color=\"genre\")"
   ]
  },
  {
   "cell_type": "code",
   "execution_count": null,
   "id": "c31348f9",
   "metadata": {
    "scrolled": true
   },
   "outputs": [],
   "source": [
    "px.box(data_frame=songData,y=\"liveness\", color=\"genre\")"
   ]
  },
  {
   "cell_type": "code",
   "execution_count": null,
   "id": "2c56e0f1",
   "metadata": {},
   "outputs": [],
   "source": [
    "px.box(data_frame=songData,y=\"tempo\", color=\"genre\")"
   ]
  },
  {
   "cell_type": "code",
   "execution_count": null,
   "id": "8aefa084",
   "metadata": {},
   "outputs": [],
   "source": [
    "songData.hist(layout=(7,2),figsize=(20, 30))"
   ]
  },
  {
   "cell_type": "code",
   "execution_count": null,
   "id": "22c14338",
   "metadata": {},
   "outputs": [],
   "source": [
    "#pie graph of distribution of songs in the dataset\n",
    "px.pie(songData.genre,\n",
    "       labels = songData.genre.value_counts().index,\n",
    "       values = songData.genre.value_counts().values,\n",
    "       names = songData.genre.value_counts().index,\n",
    "       title = \"Spotify Genres\"\n",
    "      )"
   ]
  },
  {
   "cell_type": "code",
   "execution_count": null,
   "id": "dd93855b",
   "metadata": {},
   "outputs": [],
   "source": [
    "plt.figure(figsize=(15,10))\n",
    "sns.heatmap(songData.corr(),annot=True)\n",
    "plt.title('Heatmap of Correlation Between Elements of a Song')\n",
    "plt.show()"
   ]
  },
  {
   "cell_type": "code",
   "execution_count": null,
   "id": "d0058aca",
   "metadata": {},
   "outputs": [],
   "source": [
    "plt.figure(figsize=(15,10))\n",
    "sns.lineplot(x='energy',y='danceability',data=songData)\n",
    "plt.title('Energy vs Danceability')\n",
    "plt.xlabel('Energy')\n",
    "plt.ylabel('Danceability')\n",
    "plt.show()"
   ]
  },
  {
   "cell_type": "code",
   "execution_count": null,
   "id": "4d5b34a4",
   "metadata": {},
   "outputs": [],
   "source": [
    "plt.figure(figsize=(15,10))\n",
    "sns.lineplot(x='energy',y='acousticness',data=songData)\n",
    "plt.title('Energy vs Acousticness')\n",
    "plt.xlabel('Energy')\n",
    "plt.ylabel('Acousticness')\n",
    "plt.show()"
   ]
  },
  {
   "cell_type": "code",
   "execution_count": null,
   "id": "9e38cc42",
   "metadata": {},
   "outputs": [],
   "source": [
    "plt.figure(figsize=(12,12))\n",
    "sns.jointplot(x=songData[\"energy\"].values, y=songData['popularity'].values, size=10, kind=\"kde\",)\n",
    "plt.ylabel('energy', fontsize=10)\n",
    "plt.xlabel(\"popularity\", fontsize=10)\n",
    "plt.title(\"Energy v Popularity\", fontsize=10)\n",
    "plt.show();"
   ]
  },
  {
   "cell_type": "code",
   "execution_count": null,
   "id": "a8a0c515",
   "metadata": {},
   "outputs": [],
   "source": [
    "songData.shape"
   ]
  },
  {
   "cell_type": "code",
   "execution_count": null,
   "id": "d5d51373",
   "metadata": {},
   "outputs": [],
   "source": [
    "def prepro(df, cols, num_components):\n",
    "    dummies = pd.get_dummies(df.drop(cols, axis=1)) #create dummy variables for columns in in put that are not present in cols\n",
    "    merged = pd.concat([df[cols], dummies], axis=1) #concat dummy vartialbe swith df\n",
    "    merged = merged.groupby(cols).max() #group by colymns and max value\n",
    "    genres = merged.filter(regex='^genre')\n",
    "    x = merged.iloc[:, 11:]\n",
    "    pca = PCA(n_components=num_components)\n",
    "    x_pca = pca.fit_transform(x)\n",
    "    merged = merged.iloc[:, :11]\n",
    "    merged[['pca_' + str(i+1) for i in range(num_components)]] = x_pca[:, :num_components]\n",
    "    merged = (merged - merged.min()) / (merged.max() - merged.min())\n",
    "    return merged, genres\n",
    "\n",
    "num_components = 2\n",
    "cols = ['artist_name','track_name','track_id']\n",
    "\n",
    "X, genres = prepro(songData, cols, num_components)\n",
    "X = X.sort_values('popularity', ascending=False) #sort by popularity\n",
    "\n",
    "for i, col in enumerate(X.columns):\n",
    "    print(i, col)\n",
    "\n",
    "sns.pairplot(X.iloc[::10, :])\n",
    "plt.show()"
   ]
  },
  {
   "cell_type": "code",
   "execution_count": null,
   "id": "3855f9d0",
   "metadata": {},
   "outputs": [],
   "source": [
    "for i in range(50):\n",
    "    print(i, X.iloc[i, :].name)"
   ]
  },
  {
   "cell_type": "code",
   "execution_count": null,
   "id": "bc4cf15e",
   "metadata": {},
   "outputs": [],
   "source": [
    "num_clust = 30\n",
    "wcss = []\n",
    "#use elbow method to determine correct amount of clusters to have\n",
    "X_numeric = X.select_dtypes(np.number)\n",
    "\n",
    "for i in range(1, num_clust+1):\n",
    "    print(f'k={i}')\n",
    "    kmeans = KMeans(n_clusters=i, init='k-means++', random_state=42)\n",
    "    kmeans.fit(X_numeric)\n",
    "    wcss.append(kmeans.inertia_)\n",
    "\n",
    "plt.figure(figsize=(10, 5))\n",
    "sns.lineplot(x=range(1, num_clust+1), y=wcss, marker='x', color='blue')\n",
    "plt.title('The Elbow Method')\n",
    "plt.xlabel('Number of clusters')\n",
    "plt.ylabel('WCSS')\n",
    "plt.show()"
   ]
  },
  {
   "cell_type": "code",
   "execution_count": null,
   "id": "4f5b31f1",
   "metadata": {},
   "outputs": [],
   "source": [
    "num_clust = 10\n",
    "#cluster values into 10 clusters\n",
    "kmeans = KMeans(n_clusters = num_clust, init = 'k-means++', random_state = 42)\n",
    "y_kmeans = kmeans.fit_predict(X)\n",
    "\n",
    "X.loc[:, 'cluster'] = y_kmeans\n",
    "\n",
    "fig = plt.figure()\n",
    "ax = fig.add_axes([0,0,1,1])\n",
    "\n",
    "ax.hist(\n",
    "    y_kmeans,\n",
    "    bins=num_clust,\n",
    "    density=True,\n",
    "    alpha=0.8\n",
    ")\n",
    "\n",
    "plt.title('Distribution by cluster')\n",
    "plt.show()"
   ]
  },
  {
   "cell_type": "code",
   "execution_count": null,
   "id": "e6ba3e10",
   "metadata": {
    "scrolled": true
   },
   "outputs": [],
   "source": [
    "col_nums = {}\n",
    "\n",
    "for i, c in enumerate(X.columns[:-1]):\n",
    "    col_nums[c] = i\n",
    "    \n",
    "col_nums\n",
    "\n"
   ]
  },
  {
   "cell_type": "code",
   "execution_count": null,
   "id": "bff98d1b",
   "metadata": {},
   "outputs": [],
   "source": [
    "inds = {'index': 39} #song we want recommendations for\n",
    "\n",
    "target_ind = inds['index']\n",
    "target_vals = X.iloc[target_ind, :-1] #songs only within same cluster\n",
    "\n",
    "genres['cluster'] = X['cluster']\n",
    "tmp = X[X['cluster'] == X['cluster'].iloc[target_ind]]\n",
    "#using cosine simlarity between target song and songs within each row\n",
    "tmp['index'] = tmp.apply(lambda row: spatial.distance.cosine(target_vals, row[:-1]), axis=1)\n",
    "\n",
    "print('Most similar songs:')\n",
    "head = tmp.sort_values(['index']).head(15)\n",
    "\n",
    "for index, row in head.iterrows():\n",
    "    print(f'    {index[0]} - {index[1]}')"
   ]
  }
 ],
 "metadata": {
  "kernelspec": {
   "display_name": "Python 3 (ipykernel)",
   "language": "python",
   "name": "python3"
  },
  "language_info": {
   "codemirror_mode": {
    "name": "ipython",
    "version": 3
   },
   "file_extension": ".py",
   "mimetype": "text/x-python",
   "name": "python",
   "nbconvert_exporter": "python",
   "pygments_lexer": "ipython3",
   "version": "3.10.9"
  }
 },
 "nbformat": 4,
 "nbformat_minor": 5
}
